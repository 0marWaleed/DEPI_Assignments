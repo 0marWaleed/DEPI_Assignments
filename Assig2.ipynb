{
 "cells": [
  {
   "cell_type": "code",
   "execution_count": 55,
   "id": "a2d1b7ae-9903-4bc7-958e-9f32281d9e3b",
   "metadata": {},
   "outputs": [
    {
     "name": "stdout",
     "output_type": "stream",
     "text": [
      "Sorted list: [0, 1, 2, 3, 4, 5, 6, 7]\n"
     ]
    }
   ],
   "source": [
    "def sorting(x):\n",
    "    for i in range(len(x)):\n",
    "        for j in range(len(x)):\n",
    "            if x[j] > x[i]:\n",
    "                x[j], x[i] = x[i], x[j]\n",
    "    return x\n",
    "\n",
    "# Example usage\n",
    "myList1 = [3,1,4,6]\n",
    "myList2 = [7,2,5,0]\n",
    "myList1.extend(myList2)\n",
    "sorted_list = sorting(myList1)\n",
    "print(\"Sorted list:\", sorted_list)"
   ]
  },
  {
   "cell_type": "code",
   "execution_count": 5,
   "id": "08af42d2-4eaa-4fa3-b71d-fae7ffde2a5b",
   "metadata": {},
   "outputs": [
    {
     "name": "stdout",
     "output_type": "stream",
     "text": [
      "Enter any string:  Hi\n",
      "Enter number of repetition:  2\n"
     ]
    },
    {
     "name": "stdout",
     "output_type": "stream",
     "text": [
      "HHii\n"
     ]
    }
   ],
   "source": [
    "str = input(\"Enter any string: \")\n",
    "n = int(input(\"Enter number of repetition: \"))\n",
    "new_str = \"\"\n",
    "for char in str:\n",
    "    new_str += char*n\n",
    "# another way ---> new_str = ''.join(char * n for char in str)\n",
    "print(new_str)"
   ]
  }
 ],
 "metadata": {
  "kernelspec": {
   "display_name": "Python 3 (ipykernel)",
   "language": "python",
   "name": "python3"
  },
  "language_info": {
   "codemirror_mode": {
    "name": "ipython",
    "version": 3
   },
   "file_extension": ".py",
   "mimetype": "text/x-python",
   "name": "python",
   "nbconvert_exporter": "python",
   "pygments_lexer": "ipython3",
   "version": "3.12.4"
  }
 },
 "nbformat": 4,
 "nbformat_minor": 5
}
