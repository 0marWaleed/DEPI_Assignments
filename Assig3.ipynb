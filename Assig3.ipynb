{
 "cells": [
  {
   "cell_type": "markdown",
   "id": "c9be9f78-855e-48b8-9f54-5c55dd7f0cf5",
   "metadata": {},
   "source": [
    "# Assignment 3 --- Omar Waleed\n",
    "## Question 1"
   ]
  },
  {
   "cell_type": "code",
   "execution_count": 30,
   "id": "983cdadc-1745-44bd-8ecf-83066f0b900f",
   "metadata": {},
   "outputs": [
    {
     "name": "stdin",
     "output_type": "stream",
     "text": [
      "Enter any string:  Omar Waleed\n"
     ]
    },
    {
     "name": "stdout",
     "output_type": "stream",
     "text": [
      "Number of Vowels: 5\n"
     ]
    }
   ],
   "source": [
    "def count_vowels(S):\n",
    "    vowels = \"aeiouAEIOU\"\n",
    "    count = 0\n",
    "    for i in S:\n",
    "        if i in vowels:\n",
    "            count +=1\n",
    "    return count\n",
    "    \n",
    "str = input(\"Enter any string: \")\n",
    "print(\"Number of Vowels:\",count_vowels(str))"
   ]
  },
  {
   "cell_type": "markdown",
   "id": "82bc1682-fa81-4989-b231-d3f702c0249b",
   "metadata": {},
   "source": [
    "## Question 2"
   ]
  },
  {
   "cell_type": "code",
   "execution_count": 28,
   "id": "7c72f71c-df65-4a35-8d72-cbe7015320ab",
   "metadata": {},
   "outputs": [
    {
     "name": "stdin",
     "output_type": "stream",
     "text": [
      "Enter number of elements:  5\n",
      "Enter element no.1 :  -33\n",
      "Enter element no.2 :  -2\n",
      "Enter element no.3 :  -5\n",
      "Enter element no.4 :  -12\n",
      "Enter element no.5 :  -5\n"
     ]
    },
    {
     "name": "stdout",
     "output_type": "stream",
     "text": [
      "Maximum value in list: -2\n"
     ]
    }
   ],
   "source": [
    "def find_max(L):\n",
    "    if not L:\n",
    "        return None\n",
    "    max_value = L[0]\n",
    "    for i in L:\n",
    "        if i > max_value:\n",
    "            max_value = i\n",
    "    return max_value\n",
    "    \n",
    "lst = []\n",
    "elements_num = int(input(\"Enter number of elements: \"))\n",
    "for i in range(elements_num):\n",
    "    element = int(input(f\"Enter element no.{i+1} : \"))\n",
    "    lst.append(element)\n",
    "print(\"Maximum value in list:\",find_max(lst))"
   ]
  }
 ],
 "metadata": {
  "kernelspec": {
   "display_name": "Python 3 (ipykernel)",
   "language": "python",
   "name": "python3"
  },
  "language_info": {
   "codemirror_mode": {
    "name": "ipython",
    "version": 3
   },
   "file_extension": ".py",
   "mimetype": "text/x-python",
   "name": "python",
   "nbconvert_exporter": "python",
   "pygments_lexer": "ipython3",
   "version": "3.12.4"
  }
 },
 "nbformat": 4,
 "nbformat_minor": 5
}
